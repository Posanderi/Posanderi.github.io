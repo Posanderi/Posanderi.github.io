{
 "cells": [
  {
   "cell_type": "code",
   "execution_count": null,
   "metadata": {},
   "outputs": [],
   "source": [
    "for i, row in vote_results_centroid.iterrows():\n",
    "    pie_chart = pygal.Pie()\n",
    "    pie_chart.title = 'asd'\n",
    "    pie_chart.add('IE', 19.5)\n",
    "    pie_chart.add('Firefox', 36.6)\n",
    "    pie_chart.add('Chrome', 36.3)\n",
    "    pie_chart.add('Safari', 4.5)\n",
    "    pie_chart.add('Opera', 2.3)\n",
    "    pie_chart.render()\n",
    "\n",
    "#Create .png images of the Matplotlib piecharts presenting the voting results in each district\n",
    "'''\n",
    "partycmap=[\"red\", \"turquoise\", \"blue\", \"darkgreen\", \"lime\", \"darkred\", \"yellow\"]\n",
    "for i, row in vote_results_centroid.iterrows():\n",
    "    fig, axes=plt.subplots(figsize=(12,8))\n",
    "    axes.pie(row[6:13], labels=vote_results.columns[6:13], colors=partycmap, autopct=\"%1.0f%%\")\n",
    "    fp_out=(\"data/piecharts/\"+row[\"nimi\"]+\".png\")\n",
    "    fig.savefig(fp_out)\n",
    "    plt.close()'''"
   ]
  },
  {
   "cell_type": "code",
   "execution_count": null,
   "metadata": {},
   "outputs": [],
   "source": [
    "#Failing code for assigning .png file to a single popup\n",
    "\n",
    "'''\n",
    "import base64\n",
    "\n",
    "partycmap=[\"red\", \"turquoise\", \"blue\", \"darkgreen\", \"lime\", \"darkred\", \"yellow\"]\n",
    "fig, axes=plt.subplots(figsize=(12,8))\n",
    "axes.pie(vote_results_centroid.iloc[1][6:13], labels=vote_results_centroid.columns[6:13], colors=partycmap, autopct=\"%1.0f%%\")\n",
    "png=\"test.png\"\n",
    "fig.savefig(png, dpi=75)\n",
    "\n",
    "encoded = base64.b64encode(open(png, 'rb').read())\n",
    "html = '<img src=\"data:image/png;base64,{}\">'.format\n",
    "iframe = IFrame(html(encoded), width=(7*75)+20, height=(3*75)+20)\n",
    "popup = folium.Popup(iframe, max_width=2650)\n",
    "\n",
    "icon = folium.Icon(color=\"red\", icon=\"ok\")\n",
    "marker = folium.Marker(location=[vote_results_centroid.iloc[1].geometry.y, vote_results_centroid.iloc[1].geometry.x], popup=popup, icon=icon)\n",
    "marker.add_to(m)'''"
   ]
  },
  {
   "cell_type": "code",
   "execution_count": null,
   "metadata": {},
   "outputs": [],
   "source": [
    "#Failing code for iterating and assign .png files to voting popups\n",
    "'''import base64\n",
    "\n",
    "\n",
    "png=\"data/piecharts/ALA-KIVENLAHTI.png\"\n",
    "\n",
    "encoded = base64.b64encode(open(png, 'rb').read())\n",
    "html=\"<img src='data:piecharts/ALA-KIVENLAHTI.png;base64,{}''>\".format\n",
    "iframe = IFrame(html(encoded))\n",
    "\n",
    "\n",
    "for i, row in vote_results_centroid.iterrows():\n",
    "    \n",
    "    folium.Circle([row.geometry.y, row.geometry.x], radius=((row[\"vote_cl\"]+1)*90),\n",
    "                  stroke=False, fill=True, fill_opacity=0.9, color=funcs.party_cmap(party=row[\"winner\"]),\n",
    "                  popup=folium.Popup(iframe)).add_to(m)'''"
   ]
  }
 ],
 "metadata": {
  "kernelspec": {
   "display_name": "Python 3",
   "language": "python",
   "name": "python3"
  },
  "language_info": {
   "codemirror_mode": {
    "name": "ipython",
    "version": 3
   },
   "file_extension": ".py",
   "mimetype": "text/x-python",
   "name": "python",
   "nbconvert_exporter": "python",
   "pygments_lexer": "ipython3",
   "version": "3.6.5"
  }
 },
 "nbformat": 4,
 "nbformat_minor": 4
}

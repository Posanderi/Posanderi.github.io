{
 "cells": [
  {
   "cell_type": "raw",
   "metadata": {},
   "source": [
    "This program creates a new Folium map which contains statistical data from different districts in the HRI area and results from the 2019 governmental election. The goal is to compare how different sosioeconomic attributes such as education and employment correlate with the distribution of votes to different political parties.\n",
    "\n",
    "The code consists of importing the required Python libraries and files, cleaning and merging the datasets to be suitable for the analysis and creating the Folium map instance with map elements presenting different data on the map."
   ]
  },
  {
   "cell_type": "code",
   "execution_count": 348,
   "metadata": {},
   "outputs": [],
   "source": [
    "import pandas as pd\n",
    "import geopandas as gpd\n",
    "import mapclassify as mapc\n",
    "import folium\n",
    "import mplleaflet\n",
    "import shapely as shp\n",
    "from shapely.geometry import Point, LineString, Polygon\n",
    "import matplotlib.pyplot as plt\n",
    "import numpy as np\n",
    "import functions as funcs\n",
    "import json\n",
    "import pygal\n",
    "\n",
    "#Import all the necessary spatial data for the analysis. Data used are the districts and voting areas in\n",
    "#the HRI-area.\n",
    "districts=gpd.read_file(\"data/aluejaot/pks_pienalue.shp\")\n",
    "voting_areas=gpd.read_file(\"data/aluejaot/Aanestysaluejako_PKS_2019.shp\")\n",
    "\n",
    "#Import the election results by party and voting districts in absolute values and percentages.\n",
    "election_val=pd.read_csv(\"data/vaalit2019.csv\")\n",
    "election_pr=pd.read_csv(\"data/vaalit2019%.csv\")\n",
    "\n",
    "#Next we'll import some data categorised by districts in the capital area. This includes unemployment rates\n",
    "#and education levels from the year 2017. Kauniainen is excluded for lack of data.\n",
    "#Helsinki area is separated by 'peruspiiri', Espoo by 'pienalue' and Vantaa by 'kaupunginosa'.\n",
    "unemployment_Espoo=pd.read_csv(\"data/tyottomyys_Espoo.csv\")\n",
    "unemployment_Helsinki=pd.read_csv(\"data/tyottomyys_Helsinki.csv\")\n",
    "unemployment_Vantaa=pd.read_csv(\"data/tyottomyys_Vantaa.csv\")\n",
    "\n",
    "education_Espoo=pd.read_csv(\"data/koulutus_Espoo.csv\")\n",
    "education_Vantaa=pd.read_csv(\"data/koulutus_Vantaa.csv\")\n",
    "education_Helsinki=pd.read_csv(\"data/koulutus_Helsinki.csv\")"
   ]
  },
  {
   "cell_type": "code",
   "execution_count": 349,
   "metadata": {},
   "outputs": [],
   "source": [
    "#Merge the absolute and percentage values of the election results together.\n",
    "election=election_val.merge(election_pr, on=\"alue\", suffixes=(\"\",\"_p\"))"
   ]
  },
  {
   "cell_type": "code",
   "execution_count": 350,
   "metadata": {},
   "outputs": [],
   "source": [
    "#Replace the '-' -values representing no candidate for the area with 0 value for easier handling of the data.\n",
    "election.replace(\"-\", value=0, inplace=True)"
   ]
  },
  {
   "cell_type": "code",
   "execution_count": 351,
   "metadata": {},
   "outputs": [],
   "source": [
    "#Some results were returned as object types. Here they are converted to int64 for absolute values and float64\n",
    "#for percentages.\n",
    "election.iloc[:,12:21]=election.iloc[:,12:21].astype(\"int64\")\n",
    "election.iloc[:,32:]=election.iloc[:,32:].astype(\"float64\")"
   ]
  },
  {
   "cell_type": "code",
   "execution_count": 352,
   "metadata": {},
   "outputs": [],
   "source": [
    "election[\"winner\"]=None\n",
    "for i, row in election.iterrows():\n",
    "    election.loc[i,\"winner\"]=row[2:22].astype(\"int64\").idxmax()"
   ]
  },
  {
   "cell_type": "code",
   "execution_count": 353,
   "metadata": {},
   "outputs": [],
   "source": [
    "#Create new columns to the vote results -dataframe containing only the district and city codes\n",
    "election[\"tunnus\"]=None\n",
    "election[\"kuntanro\"]=None\n",
    "\n",
    "election=election.apply(funcs.code_extract, code=\"tunnus\", city_code=\"kuntanro\", area=\"alue\", axis=1)"
   ]
  },
  {
   "cell_type": "code",
   "execution_count": 354,
   "metadata": {},
   "outputs": [],
   "source": [
    "#There are a lot of unnecessary columns in the voting area and district -shapefiles. We filter them\n",
    "#out and leave only the necessary columns which we will use later on when we need to combine the statistics\n",
    "#of different voting areas to one district area.\n",
    "\n",
    "districts=districts[[\"geometry\",\"Nimi\", \"KUNTA\", \"PIEN\", \"TILA\", \"SUUR\"]]\n",
    "voting_areas=voting_areas[[\"geometry\", \"kuntanro\", \"tunnus\", \"nimi\"]]"
   ]
  },
  {
   "cell_type": "code",
   "execution_count": 355,
   "metadata": {},
   "outputs": [],
   "source": [
    "#Merge the vote-results to the correct voting areas by the columns \"tunnus\" and \"kuntanro\".\n",
    "vote_results=voting_areas.merge(election, on=[\"tunnus\", \"kuntanro\"])"
   ]
  },
  {
   "cell_type": "code",
   "execution_count": 356,
   "metadata": {},
   "outputs": [
    {
     "name": "stdout",
     "output_type": "stream",
     "text": [
      "['Piraattip.', 'STL', 'KP', 'FP', 'LIBE', 'SKP', 'EOP', 'IP', 'SKE', 'KTP', 'Piraattip._p', 'STL_p', 'KP_p', 'FP_p', 'LIBE_p', 'SKP_p', 'EOP_p', 'IP_p', 'SKE_p', 'KTP_p']\n"
     ]
    }
   ],
   "source": [
    "del_cols=list(vote_results.columns[15:25])+list(vote_results.columns[35:45])\n",
    "print(del_cols)"
   ]
  },
  {
   "cell_type": "code",
   "execution_count": 357,
   "metadata": {},
   "outputs": [
    {
     "name": "stdout",
     "output_type": "stream",
     "text": [
      "Index(['KD', 'SIN', 'Piraattip.', 'STL', 'KP', 'FP', 'LIBE', 'SKP', 'EOP',\n",
      "       'IP', 'SKE', 'KTP', 'Others', 'SDP_p', 'PS_p', 'KOK_p', 'KESK_p',\n",
      "       'VIHR_p', 'VAS_p', 'RKP_p', 'KD_p', 'SIN_p', 'Piraattip._p', 'STL_p',\n",
      "       'KP_p', 'FP_p', 'LIBE_p', 'SKP_p', 'EOP_p', 'IP_p', 'SKE_p', 'KTP_p',\n",
      "       'Others_p', 'winner'],\n",
      "      dtype='object')\n",
      "                                              geometry kuntanro tunnus  \\\n",
      "0    POLYGON ((25490458.174 6685787.017, 25490761.5...      092    104   \n",
      "1    POLYGON ((25490896.360 6683954.576, 25490911.8...      092    105   \n",
      "2    POLYGON ((25491988.712 6686909.527, 25492005.6...      092    209   \n",
      "3    POLYGON ((25499681.921 6691170.095, 25500004.6...      092    304   \n",
      "4    POLYGON ((25501170.347 6690202.704, 25501179.6...      092    305   \n",
      "..                                                 ...      ...    ...   \n",
      "295  POLYGON ((25486028.639 6670888.373, 25485997.2...      049     78   \n",
      "296  POLYGON ((25482093.026 6676699.177, 25482074.6...      049      2   \n",
      "297  POLYGON ((25482093.026 6676699.177, 25482101.9...      049      7   \n",
      "298  POLYGON ((25479668.530 6671603.226, 25479677.7...      049     94   \n",
      "299  POLYGON ((25481939.299 6670116.685, 25481951.5...      049     87   \n",
      "\n",
      "                     nimi                             alue  Yhteensä  SDP  \\\n",
      "0                 VARISTO                 092 104  Varisto      1266  304   \n",
      "1                 VAPAALA                 092 105  Vapaala      2246  394   \n",
      "2           VANTAANLAAKSO           092 209  Vantaanlaakso      1687  323   \n",
      "3                   ILOLA                   092 304  Ilola      2509  426   \n",
      "4             RUSKEASANTA             092 305  Ruskeasanta      2409  483   \n",
      "..                    ...                              ...       ...  ...   \n",
      "295            MATINMETSÄ              049 078  Matinmetsä      1551  279   \n",
      "296   JOUPPI-KIRSTINSYRJÄ     049 002  Jouppi-Kirstinsyrjä      1284  314   \n",
      "297  SOKINVUORI-KIRSTINMÄ  049 007  Sokinvuori-Kirstinmäki      1000  251   \n",
      "298        ALA-KIVENLAHTI          049 094  Ala-Kivenlahti      1286  302   \n",
      "299            ALA-SOUKKA              049 087  Ala-Soukka      1287  283   \n",
      "\n",
      "      PS  KOK  KESK  ...  PS_p  KOK_p  KESK_p  VIHR_p  VAS_p  RKP_p  KD_p  \\\n",
      "0    177  265    60  ...  14.0   20.9     4.7    16.4    4.4    3.6   2.7   \n",
      "1    339  591   103  ...  15.1   26.3     4.6    15.7    4.3    3.7   2.9   \n",
      "2    240  461    73  ...  14.2   27.3     4.3    14.9    3.9    3.1   2.7   \n",
      "3    511  614   115  ...  20.4   24.5     4.6    13.2    5.0    1.8   2.4   \n",
      "4    421  558   125  ...  17.5   23.2     5.2    12.8    4.5    2.8   2.7   \n",
      "..   ...  ...   ...  ...   ...    ...     ...     ...    ...    ...   ...   \n",
      "295  163  346    67  ...  10.5   22.3     4.3    20.2    3.5    8.2   3.2   \n",
      "296  254  130    38  ...  19.8   10.1     3.0    15.4    8.1    4.7   3.5   \n",
      "297  183  127    47  ...  18.3   12.7     4.7    16.6    5.6    3.7   3.8   \n",
      "298  210  219    43  ...  16.3   17.0     3.3    15.2    5.9    5.2   3.3   \n",
      "299  184  230    57  ...  14.3   17.9     4.4    17.9    4.3    6.8   3.6   \n",
      "\n",
      "     SIN_p  Others_p  winner  \n",
      "0      2.0       4.2     SDP  \n",
      "1      2.6       4.9     KOK  \n",
      "2      2.7       5.9     KOK  \n",
      "3      1.6       6.7     KOK  \n",
      "4      2.2       7.1     KOK  \n",
      "..     ...       ...     ...  \n",
      "295    2.2       3.7     KOK  \n",
      "296    2.1       3.9     SDP  \n",
      "297    1.5       2.5     SDP  \n",
      "298    1.6       4.7     SDP  \n",
      "299    2.8       3.7     SDP  \n",
      "\n",
      "[300 rows x 27 columns]\n"
     ]
    }
   ],
   "source": [
    "vote_results.rename(columns={\"Muut\":\"Others\", \"Muut_p\":\"Others_p\"}, inplace=True)\n",
    "print(vote_results.columns[13:200])\n",
    "for i, row in vote_results.iterrows():\n",
    "    row[\"others\"]=row[15:26].sum()\n",
    "    row[\"others_p\"]=row[35:46].sum()\n",
    "vote_results.drop(columns=del_cols, inplace=True)"
   ]
  },
  {
   "cell_type": "code",
   "execution_count": 359,
   "metadata": {},
   "outputs": [],
   "source": [
    "#Extract the centroid of a voting area for map representation later on.\n",
    "vote_results_centroid=vote_results\n",
    "vote_results_centroid[\"geometry\"]=vote_results[\"geometry\"].centroid\n",
    "vote_results_centroid=vote_results_centroid.to_crs(epsg=4326)"
   ]
  },
  {
   "cell_type": "code",
   "execution_count": 360,
   "metadata": {},
   "outputs": [],
   "source": [
    "#Merge unemployment and education datasets for different cities together for easier use.\n",
    "unemployment=pd.concat([unemployment_Espoo, unemployment_Helsinki, unemployment_Vantaa], ignore_index=True)\n",
    "education=pd.concat([education_Espoo, education_Helsinki, education_Vantaa], ignore_index=True)"
   ]
  },
  {
   "cell_type": "code",
   "execution_count": 361,
   "metadata": {},
   "outputs": [],
   "source": [
    "#Delete the no-data values marked with '.' and '..', and empty rows.\n",
    "education.replace([\".\", \"..\"], value=np.NaN, inplace=True)\n",
    "education.dropna(axis=0, inplace=True)\n",
    "\n",
    "unemployment.replace([\".\", \"..\"], value=np.NaN, inplace=True)\n",
    "unemployment.dropna(axis=0, inplace=True)"
   ]
  },
  {
   "cell_type": "code",
   "execution_count": 362,
   "metadata": {},
   "outputs": [
    {
     "name": "stderr",
     "output_type": "stream",
     "text": [
      "C:\\Users\\Poso\\Anaconda3\\envs\\Mapping\\lib\\site-packages\\pyproj\\crs\\crs.py:53: FutureWarning: '+init=<authority>:<code>' syntax is deprecated. '<authority>:<code>' is the preferred initialization method. When making the change, be mindful of axis order changes: https://pyproj4.github.io/pyproj/stable/gotchas.html#axis-order-changes-in-proj-6\n",
      "  return _prepare_from_string(\" \".join(pjargs))\n"
     ]
    }
   ],
   "source": [
    "#Change the CRS of the districts to TM35Fin which is also used in the voting area map\n",
    "districts=districts.to_crs({'init': 'epsg:3879'})"
   ]
  },
  {
   "cell_type": "code",
   "execution_count": 363,
   "metadata": {},
   "outputs": [],
   "source": [
    "#Extract the district and city codes to separate columns from\n",
    "#the full names of districts in education and unemployment datasets.\n",
    "education[\"code\"]=None\n",
    "education[\"KUNTA\"]=None\n",
    "education=education.apply(funcs.code_extract, code=\"code\",city_code=\"KUNTA\", area=\"Alue\", axis=1)\n",
    "\n",
    "unemployment[\"code\"]=None\n",
    "unemployment[\"KUNTA\"]=None\n",
    "unemployment=unemployment.apply(funcs.code_extract, code=\"code\",city_code=\"KUNTA\", area=\"Alue\", axis=1)\n",
    "\n",
    "#Extract the district and city codes to separate columns from\n",
    "#the full names of districts in district data.\n",
    "districts[\"code\"]=None\n",
    "districts=districts.apply(funcs.sep_code, axis=1)"
   ]
  },
  {
   "cell_type": "code",
   "execution_count": 364,
   "metadata": {},
   "outputs": [],
   "source": [
    "#Merge the education and unemployment data to district geometry\n",
    "district_ed=districts.merge(education, on=[\"KUNTA\",\"code\"])\n",
    "district_unemp=districts.merge(unemployment, on=[\"KUNTA\",\"code\"])"
   ]
  },
  {
   "cell_type": "code",
   "execution_count": 365,
   "metadata": {},
   "outputs": [],
   "source": [
    "#Change the CRS of districts, education and unemployment dataframes to TM35Fin for easier mapping in Folium\n",
    "districts.crs={'init': 'epsg:3879'}\n",
    "district_unemp.crs={'init': 'epsg:3879'}\n",
    "district_ed.crs={'init': 'epsg:3879'}"
   ]
  },
  {
   "cell_type": "code",
   "execution_count": 366,
   "metadata": {},
   "outputs": [],
   "source": [
    "#Convert the education and unemployment dataframes' population values from object to float so they can be used\n",
    "#for calculations.\n",
    "\n",
    "for pop in district_ed.columns[8:]:\n",
    "    district_ed[pop]=district_ed[pop].astype(\"float64\")\n",
    "    \n",
    "district_unemp[\"Tyottomyysaste\"]=district_unemp[\"Tyottomyysaste\"].astype(\"float64\")\n",
    "district_unemp=district_unemp.rename(columns={\"Tyottomyysaste\": \"Unemployment rate\"})"
   ]
  },
  {
   "cell_type": "code",
   "execution_count": 367,
   "metadata": {},
   "outputs": [],
   "source": [
    "#Rename the education dataframe columns to shorter ones.\n",
    "district_ed.rename(columns={'Kaikki koulutusasteet': 'all', 'Tutkinnon suorittaneita yhteensä': 'ed_sum',\n",
    "                  'Keskiaste':'mid_ed', 'Alin korkea- ja alempi korkeakouluaste': 'low_uni',\n",
    "                  'Ylempi korkeakouluaste ja tutkijakoulutus': 'high_uni',\n",
    "                  'Perusaste tai tuntematon': 'basic_edu'}, inplace=True)"
   ]
  },
  {
   "cell_type": "code",
   "execution_count": 368,
   "metadata": {},
   "outputs": [],
   "source": [
    "#Calculate the proportions of education levels to separate columns of the education dataframe.\n",
    "district_ed[\"Middle level education\"]=round(district_ed[\"mid_ed\"]/district_ed[\"all\"]*100,2)\n",
    "district_ed[\"Lower university education\"]=round(district_ed[\"low_uni\"]/district_ed[\"all\"]*100,2)\n",
    "district_ed[\"Higher university education\"]=round(district_ed[\"high_uni\"]/district_ed[\"all\"]*100,2)\n",
    "district_ed[\"Basic education\"]=round(district_ed[\"basic_edu\"]/district_ed[\"all\"]*100,2)"
   ]
  },
  {
   "cell_type": "code",
   "execution_count": 369,
   "metadata": {},
   "outputs": [],
   "source": [
    "#Classify the amount of votes with Natural Breaks and create a new column for the values.\n",
    "#To be used for creating different sized markers for the map indicating the amount of votes from each area.\n",
    "\n",
    "cl_votes=mapc.NaturalBreaks(y=vote_results_centroid[\"Yhteensä\"], k=4)\n",
    "vote_results_centroid[\"vote_cl\"]=vote_results_centroid[\"Yhteensä\"].apply(cl_votes).astype(int)"
   ]
  },
  {
   "cell_type": "code",
   "execution_count": 370,
   "metadata": {},
   "outputs": [],
   "source": [
    "#Create a new index column called 'geoid' for unemployment and district dataframes.\n",
    "#Folium requires an index column named 'geoid' to read the data from the rows correctly.\n",
    "\n",
    "district_unemp['geoid'] = list(range(len(district_unemp)))\n",
    "district_unemp.index=district_unemp[\"geoid\"].astype(str)\n",
    "\n",
    "district_ed['geoid'] = list(range(len(district_ed)))\n",
    "district_ed.index=district_ed[\"geoid\"].astype(str)"
   ]
  },
  {
   "cell_type": "code",
   "execution_count": 371,
   "metadata": {},
   "outputs": [
    {
     "name": "stdout",
     "output_type": "stream",
     "text": [
      "SDP       394\n",
      "PS        339\n",
      "KOK       591\n",
      "KESK      103\n",
      "VIHR      352\n",
      "VAS        96\n",
      "RKP        83\n",
      "KD         65\n",
      "SIN        58\n",
      "Others    111\n",
      "Name: 1, dtype: object\n"
     ]
    }
   ],
   "source": [
    "print(vote_results_centroid.iloc[1,6:16])"
   ]
  },
  {
   "cell_type": "code",
   "execution_count": 384,
   "metadata": {},
   "outputs": [],
   "source": [
    "from pygal.style import Style\n",
    "custom_style = Style(\n",
    "    background='#ffffff',\n",
    "    plot_background='#ffffff',\n",
    "    foreground='#000000',\n",
    "    foreground_strong='#000000',\n",
    "    foreground_subtle='#000000',\n",
    "    opacity='.7',\n",
    "    opacity_hover='.9',\n",
    "    font_family='googlefont:Poppins',\n",
    "    title_font_size=34,\n",
    "    legend_font_size=26,\n",
    "    tooltip_font_size=26,\n",
    "    transition='300ms ease-out',\n",
    "    colors=('#ff0000', '#42f0d6', '#004bd6', '#30af1d', '#58fd3f', '#b60205', '#fdf926','#cb45fc', '#6dd2fd', '#a1a1a1'))\n",
    "\n",
    "for i, row in vote_results_centroid.iterrows():\n",
    "    pie_chart = pygal.Pie(style=custom_style)\n",
    "    pie_chart.title = row[\"nimi\"]\n",
    "    for j in range (6,16):\n",
    "        pie_chart.add(row.index[j], row[j])\n",
    "    pie_chart.render_to_file('data/charts/'+row[\"nimi\"]+'.svg')"
   ]
  },
  {
   "cell_type": "code",
   "execution_count": 385,
   "metadata": {},
   "outputs": [
    {
     "data": {
      "text/plain": [
       "<folium.raster_layers.TileLayer at 0x23729ee00f0>"
      ]
     },
     "execution_count": 385,
     "metadata": {},
     "output_type": "execute_result"
    }
   ],
   "source": [
    "#Create a new folium map instance for the different layers.\n",
    "m = folium.Map(location=[60.25, 24.8], zoom_start=10, control_scale=True, max_bounds=True,\n",
    "              min_lat=59.60, max_lat=60.90, min_lon=24.0, max_lon=25.9, control=False)\n",
    "folium.raster_layers.TileLayer(tiles=\"CartoDB positron\", control=False).add_to(m)"
   ]
  },
  {
   "cell_type": "code",
   "execution_count": 386,
   "metadata": {},
   "outputs": [
    {
     "data": {
      "text/plain": [
       "<folium.features.GeoJson at 0x23725d252e8>"
      ]
     },
     "execution_count": 386,
     "metadata": {},
     "output_type": "execute_result"
    }
   ],
   "source": [
    "#Add the districts as a GeoJson map layout\n",
    "style={'fillColor': 'Black', 'fillOpacity' : '0.05', 'color': 'Black', 'weight' : '0.5'}\n",
    "folium.GeoJson(\n",
    "    districts,\n",
    "    name='Districts',\n",
    "    control=True,\n",
    "    style_function=lambda x: style,\n",
    "    show=False\n",
    ").add_to(m)"
   ]
  },
  {
   "cell_type": "code",
   "execution_count": 387,
   "metadata": {},
   "outputs": [
    {
     "data": {
      "text/plain": [
       "<folium.features.GeoJson at 0x23725ca6668>"
      ]
     },
     "execution_count": 387,
     "metadata": {},
     "output_type": "execute_result"
    }
   ],
   "source": [
    "#Add the voting areas as a GeoJson map layout\n",
    "style_vote={'fillColor': 'Black', 'fillOpacity' : '0.05', 'color': 'Purple', 'weight' : '0.5'}\n",
    "folium.GeoJson(\n",
    "    voting_areas,\n",
    "    name='Voting areas',\n",
    "    overlay=True,\n",
    "    show=False,\n",
    "    style_function=lambda x: style_vote\n",
    ").add_to(m)"
   ]
  },
  {
   "cell_type": "code",
   "execution_count": 388,
   "metadata": {},
   "outputs": [
    {
     "data": {
      "text/plain": [
       "<folium.features.GeoJson at 0x2372b3570b8>"
      ]
     },
     "execution_count": 388,
     "metadata": {},
     "output_type": "execute_result"
    }
   ],
   "source": [
    "#Create a choropleth map on the distribution of unemployed people in each district.\n",
    "district_unemp\n",
    "unemp_map=folium.Choropleth(\n",
    "    geo_data=district_unemp,\n",
    "    name='Unemployment rate',\n",
    "    legend_name='Unemployment rate (%)',\n",
    "    data=district_unemp,\n",
    "    columns=[\"geoid\",\"Unemployment rate\"],\n",
    "    key_on='feature.properties.geoid',\n",
    "    fill_color='YlOrRd',\n",
    "    nan_fill_color=\"Grey\",\n",
    "    fill_opacity=0.5,\n",
    "    line_opacity=0.2,\n",
    "    line_color='black',\n",
    "    line_weight=1,\n",
    "    highlight=True,\n",
    "    smooth_factor=1,\n",
    "    show=False\n",
    ").add_to(m)\n",
    "\n",
    "#Add a GeoJson tooltip to the map element which shows the name and unemplyment statistics of the district\n",
    "#when hovering over the map object\n",
    "unemp_map.geojson.add_child(\n",
    "folium.features.GeoJsonTooltip(fields=['Nimi', \"Unemployment rate\"])\n",
    ")"
   ]
  },
  {
   "cell_type": "code",
   "execution_count": 389,
   "metadata": {},
   "outputs": [
    {
     "data": {
      "text/plain": [
       "<folium.features.GeoJson at 0x2372b8761d0>"
      ]
     },
     "execution_count": 389,
     "metadata": {},
     "output_type": "execute_result"
    }
   ],
   "source": [
    "#Create a choropleth map on the distribution of people with only basic education in each district.\n",
    "edu_map=folium.Choropleth(\n",
    "    geo_data=district_ed,\n",
    "    name='People with basic education',\n",
    "    legend_name='People with basic education (%)',\n",
    "    data=district_ed,\n",
    "    columns=[\"geoid\",\"Basic education\"],\n",
    "    key_on='feature.properties.geoid',\n",
    "    fill_color='YlOrRd',\n",
    "    nan_fill_color=\"Grey\",\n",
    "    fill_opacity=0.5,\n",
    "    line_opacity=0.2,\n",
    "    line_color='black',\n",
    "    line_weight=1,\n",
    "    highlight=True,\n",
    "    smooth_factor=1,\n",
    "    show=False,\n",
    ").add_to(m)\n",
    "\n",
    "#Add a GeoJson tooltip to the map element which shows the name and education statistics of the district\n",
    "#when hovering over the map object.\n",
    "edu_map.geojson.add_child(\n",
    "folium.features.GeoJsonTooltip(fields=['Nimi', \"Basic education\",\"Middle level education\", \"Lower university education\", \"Higher university education\"])\n",
    ")"
   ]
  },
  {
   "cell_type": "code",
   "execution_count": 390,
   "metadata": {},
   "outputs": [],
   "source": [
    "'''Iterate over the rows in the vote_results_centroid dataframe and create a folium Circle-element to each\n",
    "location with color according to the winning party and size scaled to the amount of voters in the voting area.\n",
    "Categorise these elements by the winning party and add them to separate FeatureGroups.\n",
    "Also add a popup to each circle-element containing a Vincent-piechart on the distribution of votes in the area.\n",
    "'''\n",
    "\n",
    "\n",
    "#Create lists for the winning parties and their colors.\n",
    "partycmap=[\"red\", \"turquoise\", \"blue\", \"lime\"]\n",
    "parties=[\"SDP\", \"PS\", \"KOK\",\"VIHR\"]\n",
    "\n",
    "#Create an empty dictionary and add winning parties to it as Folium Feature groups with name and text color by\n",
    "#party.\n",
    "partyfglist={}\n",
    "text_style='<span style=\"color: {col};\">{txt}</span>'\n",
    "for idx, color in enumerate(partycmap):\n",
    "    partyfglist[\"{0}\".format(parties[idx])]=folium.FeatureGroup(name= text_style.format(txt= parties[idx], col= color), overlay=True)\n",
    "\n",
    "#Iterate over the vote_results_centoid dataframe\n",
    "for i, row in vote_results_centroid.iterrows():\n",
    "    \n",
    "    #HTML-formating for the pop-up chart\n",
    "    chartsrc= '<embed type=\"image/svg+xml\" src=\"https://Posanderi.github.io/data/charts/'+row[\"nimi\"]+'.svg\" alt=\"Cannot find the chart\" width=\"300\" height=\"300\">'\n",
    "    \n",
    "    #Add a circle element to the map with color according to the winning party and size scaled according to the\n",
    "    #amount of voters and add the formerly created Vincent chart to it as a popup.\n",
    "    vote_circle=folium.Circle([row.geometry.y, row.geometry.x], radius=((row[\"vote_cl\"]+5)*50),\n",
    "                  stroke=False, fill=True, fill_opacity=0.9, color=funcs.party_cmap(party=row[\"winner\"]),\n",
    "                  popup=folium.Popup(html=chartsrc))\n",
    "    \n",
    "    #Keep the circle in front of other map layers.\n",
    "    m.keep_in_front(vote_circle)\n",
    "\n",
    "    #Add the circle element to a feature group according to the winning party.\n",
    "    for party in partyfglist:\n",
    "        if row[\"winner\"]==party:\n",
    "            vote_circle.add_to(partyfglist[party])\n",
    "            \n",
    "#Add the party feature groups to the map.    \n",
    "for party in partyfglist:\n",
    "    partyfglist[party].add_to(m)"
   ]
  },
  {
   "cell_type": "code",
   "execution_count": 391,
   "metadata": {},
   "outputs": [
    {
     "data": {
      "text/plain": [
       "<folium.map.LayerControl at 0x23729ed7ac8>"
      ]
     },
     "execution_count": 391,
     "metadata": {},
     "output_type": "execute_result"
    }
   ],
   "source": [
    "#Add a maplayer control tool to show/hide the different map elements\n",
    "folium.map.LayerControl(collapsed=False).add_to(m)"
   ]
  },
  {
   "cell_type": "code",
   "execution_count": 392,
   "metadata": {},
   "outputs": [],
   "source": [
    "#Save the map to the root folder\n",
    "m.save(\"index.html\")"
   ]
  },
  {
   "cell_type": "code",
   "execution_count": null,
   "metadata": {},
   "outputs": [],
   "source": []
  }
 ],
 "metadata": {
  "kernelspec": {
   "display_name": "Python 3",
   "language": "python",
   "name": "python3"
  },
  "language_info": {
   "codemirror_mode": {
    "name": "ipython",
    "version": 3
   },
   "file_extension": ".py",
   "mimetype": "text/x-python",
   "name": "python",
   "nbconvert_exporter": "python",
   "pygments_lexer": "ipython3",
   "version": "3.6.10"
  }
 },
 "nbformat": 4,
 "nbformat_minor": 4
}

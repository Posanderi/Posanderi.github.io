{
 "cells": [
  {
   "cell_type": "raw",
   "metadata": {},
   "source": [
    "This program creates a new Folium map which contains statistical data from different districts in the HRI area and results from the 2019 governmental election. The goal is to compare how different sosioeconomic attributes such as education and employment correlate with the distribution of votes to different political parties.\n",
    "\n",
    "The code consists of importing the required Python libraries and files, cleaning and merging the datasets to be suitable for the analysis and creating the Folium map instance with map elements presenting different data on the map."
   ]
  },
  {
   "cell_type": "code",
   "execution_count": 1,
   "metadata": {},
   "outputs": [],
   "source": [
    "import pandas as pd\n",
    "import geopandas as gpd\n",
    "import mapclassify as mapc\n",
    "import folium\n",
    "import mplleaflet\n",
    "import shapely as shp\n",
    "from shapely.geometry import Point, LineString, Polygon\n",
    "import matplotlib.pyplot as plt\n",
    "import numpy as np\n",
    "from folium import IFrame\n",
    "import functions as funcs\n",
    "import vincent\n",
    "import json\n",
    "\n",
    "#Import all the necessary spatial data for the analysis. Data used are the districts and voting areas in\n",
    "#the HRI-area.\n",
    "districts=gpd.read_file(\"data/aluejaot/pks_pienalue.shp\")\n",
    "voting_areas=gpd.read_file(\"data/aluejaot/Aanestysaluejako_PKS_2019.shp\")\n",
    "\n",
    "#Import the election results by party and voting districts in absolute values and percentages.\n",
    "election_val=pd.read_csv(\"data/vaalit2019.csv\")\n",
    "election_pr=pd.read_csv(\"data/vaalit2019%.csv\")\n",
    "\n",
    "#Next we'll import some data categorised by districts in the capital area. This includes unemployment rates\n",
    "#and education levels from the year 2017. Kauniainen is excluded for lack of data.\n",
    "#Helsinki area is separated by 'peruspiiri', Espoo by 'pienalue' and Vantaa by 'kaupunginosa'.\n",
    "unemployment_Espoo=pd.read_csv(\"data/tyottomyys_Espoo.csv\")\n",
    "unemployment_Helsinki=pd.read_csv(\"data/tyottomyys_Helsinki.csv\")\n",
    "unemployment_Vantaa=pd.read_csv(\"data/tyottomyys_Vantaa.csv\")\n",
    "\n",
    "education_Espoo=pd.read_csv(\"data/koulutus_Espoo.csv\")\n",
    "education_Vantaa=pd.read_csv(\"data/koulutus_Vantaa.csv\")\n",
    "education_Helsinki=pd.read_csv(\"data/koulutus_Helsinki.csv\")"
   ]
  },
  {
   "cell_type": "code",
   "execution_count": 2,
   "metadata": {},
   "outputs": [],
   "source": [
    "#Merge the absolute and percentage values of the election results together.\n",
    "election=election_val.merge(election_pr, on=\"alue\", suffixes=(\"\",\"_p\"))"
   ]
  },
  {
   "cell_type": "code",
   "execution_count": 3,
   "metadata": {},
   "outputs": [],
   "source": [
    "#Replace the '-' -values representing no candidate for the area with 0 value for easier handling of the data.\n",
    "election.replace(\"-\", value=0, inplace=True)"
   ]
  },
  {
   "cell_type": "code",
   "execution_count": 4,
   "metadata": {},
   "outputs": [],
   "source": [
    "#Some results were returned as object types. Here they are converted to int64 for absolute values and float64\n",
    "#for percentages.\n",
    "election.iloc[:,12:21]=election.iloc[:,12:21].astype(\"int64\")\n",
    "election.iloc[:,32:]=election.iloc[:,32:].astype(\"float64\")"
   ]
  },
  {
   "cell_type": "code",
   "execution_count": 5,
   "metadata": {},
   "outputs": [],
   "source": [
    "#Add a column containing the party which received the most votes in a given area.\n",
    "election=election.apply(funcs.find_winner, axis=1)"
   ]
  },
  {
   "cell_type": "code",
   "execution_count": 6,
   "metadata": {},
   "outputs": [],
   "source": [
    "#Create new columns to the vote results -dataframe containing only the district and city codes\n",
    "election[\"tunnus\"]=None\n",
    "election[\"kuntanro\"]=None\n",
    "\n",
    "election=election.apply(funcs.code_extract, code=\"tunnus\", city_code=\"kuntanro\", area=\"alue\", axis=1)"
   ]
  },
  {
   "cell_type": "code",
   "execution_count": 7,
   "metadata": {},
   "outputs": [],
   "source": [
    "#There are a lot of unnecessary columns in the voting area and district -shapefiles. We filter them\n",
    "#out and leave only the necessary columns which we will use later on when we need to combine the statistics\n",
    "#of different voting areas to one district area.\n",
    "\n",
    "districts=districts[[\"geometry\",\"Nimi\", \"KUNTA\", \"PIEN\", \"TILA\", \"SUUR\"]]\n",
    "voting_areas=voting_areas[[\"geometry\", \"kuntanro\", \"tunnus\", \"nimi\"]]"
   ]
  },
  {
   "cell_type": "code",
   "execution_count": 8,
   "metadata": {},
   "outputs": [],
   "source": [
    "#Merge the vote-results to the correct voting areas by the columns \"tunnus\" and \"kuntanro\".\n",
    "vote_results=voting_areas.merge(election, on=[\"tunnus\", \"kuntanro\"])"
   ]
  },
  {
   "cell_type": "code",
   "execution_count": 9,
   "metadata": {},
   "outputs": [],
   "source": [
    "#Extract the centroid of a voting area for map representation later on.\n",
    "vote_results_centroid=vote_results\n",
    "vote_results_centroid[\"geometry\"]=vote_results[\"geometry\"].centroid\n",
    "vote_results_centroid=vote_results_centroid.to_crs(epsg=4326)"
   ]
  },
  {
   "cell_type": "code",
   "execution_count": 10,
   "metadata": {},
   "outputs": [],
   "source": [
    "#Merge unemployment and education datasets for different cities together for easier use.\n",
    "unemployment=pd.concat([unemployment_Espoo, unemployment_Helsinki, unemployment_Vantaa], ignore_index=True)\n",
    "education=pd.concat([education_Espoo, education_Helsinki, education_Vantaa], ignore_index=True)"
   ]
  },
  {
   "cell_type": "code",
   "execution_count": 11,
   "metadata": {},
   "outputs": [],
   "source": [
    "#Delete the no-data values marked with '.' and '..', and empty rows.\n",
    "education.replace([\".\", \"..\"], value=np.NaN, inplace=True)\n",
    "education.dropna(axis=0, inplace=True)\n",
    "\n",
    "unemployment.replace([\".\", \"..\"], value=np.NaN, inplace=True)\n",
    "unemployment.dropna(axis=0, inplace=True)"
   ]
  },
  {
   "cell_type": "code",
   "execution_count": 12,
   "metadata": {},
   "outputs": [],
   "source": [
    "#Change the CRS of the districts to TM35Fin which is also used in the voting area map\n",
    "districts=districts.to_crs({'init': 'epsg:3879'})"
   ]
  },
  {
   "cell_type": "code",
   "execution_count": 13,
   "metadata": {},
   "outputs": [],
   "source": [
    "#Extract the district and city codes to separate columns from\n",
    "#the full names of districts in education and unemployment datasets.\n",
    "education[\"code\"]=None\n",
    "education[\"KUNTA\"]=None\n",
    "education=education.apply(funcs.code_extract, code=\"code\",city_code=\"KUNTA\", area=\"Alue\", axis=1)\n",
    "\n",
    "unemployment[\"code\"]=None\n",
    "unemployment[\"KUNTA\"]=None\n",
    "unemployment=unemployment.apply(funcs.code_extract, code=\"code\",city_code=\"KUNTA\", area=\"Alue\", axis=1)\n",
    "\n",
    "#Extract the district and city codes to separate columns from\n",
    "#the full names of districts in district data.\n",
    "districts[\"code\"]=None\n",
    "districts=districts.apply(funcs.sep_code, axis=1)"
   ]
  },
  {
   "cell_type": "code",
   "execution_count": 14,
   "metadata": {},
   "outputs": [],
   "source": [
    "#Merge the education and unemployment data to district geometry\n",
    "district_ed=districts.merge(education, on=[\"KUNTA\",\"code\"])\n",
    "district_unemp=districts.merge(unemployment, on=[\"KUNTA\",\"code\"])"
   ]
  },
  {
   "cell_type": "code",
   "execution_count": 15,
   "metadata": {},
   "outputs": [],
   "source": [
    "#Change the CRS of districts, education and unemployment dataframes to TM35Fin for easier mapping in Folium\n",
    "districts.crs={'init': 'epsg:3879'}\n",
    "district_unemp.crs={'init': 'epsg:3879'}\n",
    "district_ed.crs={'init': 'epsg:3879'}"
   ]
  },
  {
   "cell_type": "code",
   "execution_count": 16,
   "metadata": {},
   "outputs": [],
   "source": [
    "#Convert the education and unemployment dataframes' population values from object to float so they can be used\n",
    "#for calculations.\n",
    "\n",
    "for pop in district_ed.columns[8:]:\n",
    "    district_ed[pop]=district_ed[pop].astype(\"float64\")\n",
    "    \n",
    "district_unemp[\"Tyottomyysaste\"]=district_unemp[\"Tyottomyysaste\"].astype(\"float64\")\n",
    "district_unemp=district_unemp.rename(columns={\"Tyottomyysaste\": \"Unemployment rate\"})"
   ]
  },
  {
   "cell_type": "code",
   "execution_count": 17,
   "metadata": {},
   "outputs": [],
   "source": [
    "#Rename the education dataframe columns to shorter ones.\n",
    "district_ed.rename(columns={'Kaikki koulutusasteet': 'all', 'Tutkinnon suorittaneita yhteensä': 'ed_sum',\n",
    "                  'Keskiaste':'mid_ed', 'Alin korkea- ja alempi korkeakouluaste': 'low_uni',\n",
    "                  'Ylempi korkeakouluaste ja tutkijakoulutus': 'high_uni',\n",
    "                  'Perusaste tai tuntematon': 'basic_edu'}, inplace=True)"
   ]
  },
  {
   "cell_type": "code",
   "execution_count": 18,
   "metadata": {},
   "outputs": [],
   "source": [
    "#Calculate the proportions of education levels to separate columns of the education dataframe.\n",
    "district_ed[\"Middle level education\"]=round(district_ed[\"mid_ed\"]/district_ed[\"all\"]*100,2)\n",
    "district_ed[\"Lower university education\"]=round(district_ed[\"low_uni\"]/district_ed[\"all\"]*100,2)\n",
    "district_ed[\"Higher university education\"]=round(district_ed[\"high_uni\"]/district_ed[\"all\"]*100,2)\n",
    "district_ed[\"Basic education\"]=round(district_ed[\"basic_edu\"]/district_ed[\"all\"]*100,2)"
   ]
  },
  {
   "cell_type": "code",
   "execution_count": 19,
   "metadata": {},
   "outputs": [],
   "source": [
    "#Classify the amount of votes with Natural Breaks and create a new column for the values.\n",
    "#To be used for creating different sized markers for the map indicating the amount of votes from each area.\n",
    "\n",
    "cl_votes=mapc.NaturalBreaks(y=vote_results_centroid[\"Yhteensä\"], k=4)\n",
    "vote_results_centroid[\"vote_cl\"]=vote_results_centroid[\"Yhteensä\"].apply(cl_votes).astype(int)"
   ]
  },
  {
   "cell_type": "code",
   "execution_count": 20,
   "metadata": {},
   "outputs": [],
   "source": [
    "#Create a new index column called 'geoid' for unemployment and district dataframes.\n",
    "#Folium requires an index column named 'geoid' to read the data from the rows correctly.\n",
    "\n",
    "district_unemp['geoid'] = list(range(len(district_unemp)))\n",
    "district_unemp.index=district_unemp[\"geoid\"].astype(str)\n",
    "\n",
    "district_ed['geoid'] = list(range(len(district_ed)))\n",
    "district_ed.index=district_ed[\"geoid\"].astype(str)"
   ]
  },
  {
   "cell_type": "code",
   "execution_count": 21,
   "metadata": {},
   "outputs": [],
   "source": [
    "#Create a new folium map instance for the different layers.\n",
    "m = folium.Map(location=[60.25, 24.8], zoom_start=9, control_scale=True, tiles=\"CartoDB positron\", control=False)\n",
    "m.name=\"Cardodb layer\""
   ]
  },
  {
   "cell_type": "code",
   "execution_count": 22,
   "metadata": {},
   "outputs": [
    {
     "data": {
      "text/plain": [
       "<folium.features.GeoJson at 0x7feecc4ad898>"
      ]
     },
     "execution_count": 22,
     "metadata": {},
     "output_type": "execute_result"
    }
   ],
   "source": [
    "#Add the districts as a GeoJson map layout\n",
    "style={'fillColor': 'Black', 'fillOpacity' : '0.05', 'color': 'Black', 'weight' : '0.5'}\n",
    "folium.GeoJson(\n",
    "    districts,\n",
    "    name='Districts',\n",
    "    control=True,\n",
    "    style_function=lambda x: style\n",
    ").add_to(m)"
   ]
  },
  {
   "cell_type": "code",
   "execution_count": 23,
   "metadata": {},
   "outputs": [
    {
     "data": {
      "text/plain": [
       "<folium.features.GeoJson at 0x7fee99a05b70>"
      ]
     },
     "execution_count": 23,
     "metadata": {},
     "output_type": "execute_result"
    }
   ],
   "source": [
    "#Add the voting areas as a GeoJson map layout\n",
    "style_vote={'fillColor': 'Black', 'fillOpacity' : '0.05', 'color': 'Purple', 'weight' : '0.5'}\n",
    "folium.GeoJson(\n",
    "    voting_areas,\n",
    "    name='Voting areas',\n",
    "    overlay=True,\n",
    "    show=False,\n",
    "    style_function=lambda x: style_vote\n",
    ").add_to(m)"
   ]
  },
  {
   "cell_type": "code",
   "execution_count": 24,
   "metadata": {},
   "outputs": [
    {
     "data": {
      "text/plain": [
       "<folium.features.GeoJson at 0x7fee99296048>"
      ]
     },
     "execution_count": 24,
     "metadata": {},
     "output_type": "execute_result"
    }
   ],
   "source": [
    "#Create a choropleth map on the distribution of unemployed people in each district.\n",
    "unemp_map=folium.Choropleth(\n",
    "    geo_data=district_unemp,\n",
    "    name='Unemployment rate',\n",
    "    legend_name='Unemployment rate (%)',\n",
    "    data=district_unemp,\n",
    "    columns=[\"geoid\",\"Unemployment rate\"],\n",
    "    key_on='feature.properties.geoid',\n",
    "    fill_color='YlOrRd',\n",
    "    nan_fill_color=\"Grey\",\n",
    "    fill_opacity=0.5,\n",
    "    line_opacity=0.2,\n",
    "    line_color='black',\n",
    "    line_weight=1,\n",
    "    highlight=True,\n",
    "    smooth_factor=1,\n",
    "    show=False\n",
    ").add_to(m)\n",
    "\n",
    "#Add a GeoJson tooltip to the map element which shows the name and unemplyment statistics of the district\n",
    "#when hovering over the map object\n",
    "unemp_map.geojson.add_child(\n",
    "folium.features.GeoJsonTooltip(fields=['Nimi', \"Unemployment rate\"])\n",
    ")"
   ]
  },
  {
   "cell_type": "code",
   "execution_count": 25,
   "metadata": {},
   "outputs": [
    {
     "data": {
      "text/plain": [
       "<folium.features.GeoJson at 0x7fee98d660f0>"
      ]
     },
     "execution_count": 25,
     "metadata": {},
     "output_type": "execute_result"
    }
   ],
   "source": [
    "#Create a choropleth map on the distribution of people with only basic education in each district.\n",
    "edu_map=folium.Choropleth(\n",
    "    geo_data=district_ed,\n",
    "    name='People with basic education',\n",
    "    legend_name='People with basic education (%)',\n",
    "    data=district_ed,\n",
    "    columns=[\"geoid\",\"Basic education\"],\n",
    "    key_on='feature.properties.geoid',\n",
    "    fill_color='YlOrRd',\n",
    "    nan_fill_color=\"Grey\",\n",
    "    fill_opacity=0.5,\n",
    "    line_opacity=0.2,\n",
    "    line_color='black',\n",
    "    line_weight=1,\n",
    "    highlight=True,\n",
    "    smooth_factor=1,\n",
    "    show=False,\n",
    ").add_to(m)\n",
    "\n",
    "#Add a GeoJson tooltip to the map element which shows the name and education statistics of the district\n",
    "#when hovering over the map object.\n",
    "edu_map.geojson.add_child(\n",
    "folium.features.GeoJsonTooltip(fields=['Nimi', \"Basic education\",\"Middle level education\", \"Lower university education\", \"Higher university education\"])\n",
    ")"
   ]
  },
  {
   "cell_type": "code",
   "execution_count": 26,
   "metadata": {},
   "outputs": [],
   "source": [
    "'''Iterate over the rows in the vote_results_centroid dataframe and create a folium Circle-element to each\n",
    "location with color according to the winning party and size scaled to the amount of voters in the voting area.\n",
    "Categorise these elements by the winning party and add them to separate FeatureGroups.\n",
    "Also add a popup to each circle-element containing a Vincent-piechart on the distribution of votes in the area.\n",
    "'''\n",
    "\n",
    "\n",
    "#Create lists for the winning parties and their colors.\n",
    "partycmap=[\"red\", \"turquoise\", \"blue\", \"lime\"]\n",
    "parties=[\"SDP\", \"PS\", \"KOK\",\"VIHR\"]\n",
    "\n",
    "#Create an empty dictionary and add winning parties to it as Folium Feature groups with name and text color by\n",
    "#party.\n",
    "partyfglist={}\n",
    "text_style='<span style=\"color: {col};\">{txt}</span>'\n",
    "for idx, color in enumerate(partycmap):\n",
    "    partyfglist[\"{0}\".format(parties[idx])]=folium.FeatureGroup(name= text_style.format(txt= parties[idx], col= color), overlay=True)\n",
    "\n",
    "#Iterate over the vote_results_centoid dataframe\n",
    "for i, row in vote_results_centroid.iterrows():\n",
    "    #Create a Vincent pie chart for each row from the voting data \n",
    "    vinchart=vincent.Pie(row[6:13], width=200, height=200)\n",
    "    vinchart.legend(row[\"nimi\"]+\"\\n Biggest party: \"+row[\"winner\"])\n",
    "    vinchart.colors(brew=\"Set1\")\n",
    "    votechart=folium.Vega(vinchart.to_json(), width=450, height=200)\n",
    "    \n",
    "    #HTML-formating for the pop-up chart\n",
    "    chartsrc=\"<img src='/data/piecharts/ALA-KIVENLAHTI.png' alt='Can't find the chart' width='500' height='500'>\"\n",
    "    \n",
    "    #Add a circle element to the map with color according to the winning party and size scaled according to the\n",
    "    #amount of voters and add the formerly created Vincent chart to it as a popup.\n",
    "    vote_circle=folium.Circle([row.geometry.y, row.geometry.x], radius=((row[\"vote_cl\"]+5)*30),\n",
    "                  stroke=False, fill=True, fill_opacity=0.9, color=funcs.party_cmap(party=row[\"winner\"]),\n",
    "                  popup=folium.Popup(html=chartsrc))\n",
    "    '''popup=folium.Popup(row[46]).add_child(votechart))'''\n",
    "    \n",
    "    #Keep the circle in front of other map layers.\n",
    "    m.keep_in_front(vote_circle)\n",
    "\n",
    "    #Add the circle element to a feature group according to the winning party.\n",
    "    for party in partyfglist:\n",
    "        if row[\"winner\"]==party:\n",
    "            vote_circle.add_to(partyfglist[party])\n",
    "            \n",
    "#Add the party feature groups to the map.    \n",
    "for party in partyfglist:\n",
    "    partyfglist[party].add_to(m)"
   ]
  },
  {
   "cell_type": "code",
   "execution_count": 27,
   "metadata": {},
   "outputs": [
    {
     "data": {
      "text/plain": [
       "<folium.map.LayerControl at 0x7fee99b6abe0>"
      ]
     },
     "execution_count": 27,
     "metadata": {},
     "output_type": "execute_result"
    }
   ],
   "source": [
    "#Add a maplayer control tool to show/hide the different map elements\n",
    "folium.map.LayerControl(collapsed=False).add_to(m)"
   ]
  },
  {
   "cell_type": "code",
   "execution_count": 28,
   "metadata": {},
   "outputs": [],
   "source": [
    "#Save the map to the root folder\n",
    "m.save(\"map.html\")"
   ]
  },
  {
   "cell_type": "code",
   "execution_count": 29,
   "metadata": {},
   "outputs": [
    {
     "data": {
      "text/plain": [
       "([<matplotlib.patches.Wedge at 0x7fee98479240>,\n",
       "  <matplotlib.patches.Wedge at 0x7fee98479978>,\n",
       "  <matplotlib.patches.Wedge at 0x7fee98488080>,\n",
       "  <matplotlib.patches.Wedge at 0x7fee98488748>,\n",
       "  <matplotlib.patches.Wedge at 0x7fee984790b8>,\n",
       "  <matplotlib.patches.Wedge at 0x7fee984964e0>,\n",
       "  <matplotlib.patches.Wedge at 0x7fee98496ba8>],\n",
       " [Text(0.887422324262786, 0.6499858601539228, 'SDP'),\n",
       "  Text(-0.2587630564631373, 1.0691312737965601, 'PS'),\n",
       "  Text(-1.0861517821022117, -0.17399513279454037, 'KOK'),\n",
       "  Text(-0.32342754573060806, -1.0513774881852262, 'KESK'),\n",
       "  Text(0.4601649954651451, -0.999123704527404, 'VIHR'),\n",
       "  Text(1.0042288484959858, -0.44891471333475663, 'VAS'),\n",
       "  Text(1.0902601650208439, -0.1460574290090124, 'RKP')],\n",
       " [Text(0.4840485405069741, 0.35453774190213966, '20%'),\n",
       "  Text(-0.1411434853435294, 0.5831625129799418, '17%'),\n",
       "  Text(-0.5924464266012064, -0.09490643606974929, '30%'),\n",
       "  Text(-0.17641502494396802, -0.5734786299192143, '5%'),\n",
       "  Text(0.2509990884355337, -0.5449765661058567, '18%'),\n",
       "  Text(0.5477611900887195, -0.24486257090986724, '5%'),\n",
       "  Text(0.594687362738642, -0.07966768855037039, '4%')])"
      ]
     },
     "execution_count": 29,
     "metadata": {},
     "output_type": "execute_result"
    },
    {
     "data": {
      "image/png": "[encoded data removed]",
      "text/plain": [
       "<Figure size 864x576 with 1 Axes>"
      ]
     },
     "metadata": {},
     "output_type": "display_data"
    }
   ],
   "source": [
    "fig, axes=plt.subplots(figsize=(12,8))\n",
    "axes.pie(vote_results_centroid.iloc[1,6:13], labels=vote_results.columns[6:13], colors=partycmap, autopct=\"%1.0f%%\")"
   ]
  }
 ],
 "metadata": {
  "kernelspec": {
   "display_name": "Python 3",
   "language": "python",
   "name": "python3"
  },
  "language_info": {
   "codemirror_mode": {
    "name": "ipython",
    "version": 3
   },
   "file_extension": ".py",
   "mimetype": "text/x-python",
   "name": "python",
   "nbconvert_exporter": "python",
   "pygments_lexer": "ipython3",
   "version": "3.6.5"
  }
 },
 "nbformat": 4,
 "nbformat_minor": 4
}

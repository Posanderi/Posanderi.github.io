{
 "cells": [
  {
   "cell_type": "raw",
   "metadata": {},
   "source": [
    "This program creates a new Folium map which contains statistical data from different districts in the HRI area and results from the 2019 governmental election. The goal is to compare how different sosioeconomic attributes such as education and employment correlate with the distribution of votes to different political parties.\n",
    "\n",
    "The code consists of importing the required Python libraries and files, cleaning and merging the datasets to be suitable for the analysis and creating the Folium map instance with map elements presenting different data on the map."
   ]
  },
  {
   "cell_type": "code",
   "execution_count": 13,
   "metadata": {},
   "outputs": [],
   "source": [
    "import pandas as pd\n",
    "import geopandas as gpd\n",
    "import mapclassify as mapc\n",
    "import folium\n",
    "import mplleaflet\n",
    "import shapely as shp\n",
    "from shapely.geometry import Point, LineString, Polygon\n",
    "import matplotlib.pyplot as plt\n",
    "import numpy as np\n",
    "from folium import IFrame\n",
    "import functions as funcs\n",
    "import json\n",
    "import pygal\n",
    "\n",
    "#Import all the necessary spatial data for the analysis. Data used are the districts and voting areas in\n",
    "#the HRI-area.\n",
    "districts=gpd.read_file(\"data/aluejaot/pks_pienalue.shp\")\n",
    "voting_areas=gpd.read_file(\"data/aluejaot/Aanestysaluejako_PKS_2019.shp\")\n",
    "\n",
    "#Import the election results by party and voting districts in absolute values and percentages.\n",
    "election_val=pd.read_csv(\"data/vaalit2019.csv\")\n",
    "election_pr=pd.read_csv(\"data/vaalit2019%.csv\")\n",
    "\n",
    "#Next we'll import some data categorised by districts in the capital area. This includes unemployment rates\n",
    "#and education levels from the year 2017. Kauniainen is excluded for lack of data.\n",
    "#Helsinki area is separated by 'peruspiiri', Espoo by 'pienalue' and Vantaa by 'kaupunginosa'.\n",
    "unemployment_Espoo=pd.read_csv(\"data/tyottomyys_Espoo.csv\")\n",
    "unemployment_Helsinki=pd.read_csv(\"data/tyottomyys_Helsinki.csv\")\n",
    "unemployment_Vantaa=pd.read_csv(\"data/tyottomyys_Vantaa.csv\")\n",
    "\n",
    "education_Espoo=pd.read_csv(\"data/koulutus_Espoo.csv\")\n",
    "education_Vantaa=pd.read_csv(\"data/koulutus_Vantaa.csv\")\n",
    "education_Helsinki=pd.read_csv(\"data/koulutus_Helsinki.csv\")"
   ]
  },
  {
   "cell_type": "code",
   "execution_count": 14,
   "metadata": {},
   "outputs": [],
   "source": [
    "#Merge the absolute and percentage values of the election results together.\n",
    "election=election_val.merge(election_pr, on=\"alue\", suffixes=(\"\",\"_p\"))"
   ]
  },
  {
   "cell_type": "code",
   "execution_count": 15,
   "metadata": {},
   "outputs": [
    {
     "name": "stdout",
     "output_type": "stream",
     "text": [
      "                             alue  Yhteensä  SDP   PS   KOK  KESK  VIHR  VAS  \\\n",
      "0                049 001  Muurala      2036  360  349   386   106   276   75   \n",
      "1    049 002  Jouppi-Kirstinsyrjä      1284  314  254   130    38   198  104   \n",
      "2              049 003  Tuomarila      2002  310  229   517   100   393   89   \n",
      "3         049 004  Nuuksio-Nupuri      1850  290  321   433    98   245   95   \n",
      "4       049 005  Bemböle-Kunnarla      2782  349  441   683   160   429   85   \n",
      "..                            ...       ...  ...  ...   ...   ...   ...  ...   \n",
      "299           091 054G Vuosaari G      2357  456  463   337    74   381  231   \n",
      "300           091 054H Vuosaari H      1885  394  386   281    64   297  189   \n",
      "301          091 055A Östersundom      1130   67  175   370    35   130   37   \n",
      "302          091 090A Ä-alue 090A      3445  402  507   520    73   793  595   \n",
      "303          091 090B Ä-alue 090B      9145  661  543  2055   215  2731  841   \n",
      "\n",
      "      RKP   KD  ...  STL_p  KP_p FP_p LIBE_p SKP_p EOP_p IP_p SKE_p KTP_p  \\\n",
      "0     207   96  ...    0.4     0  0.1    0.3   0.1   0.2  0.2     0     -   \n",
      "1      60   45  ...    0.9     -  0.4    0.5   0.5   0.4    -   0.2   0.2   \n",
      "2     127   61  ...    0.5     -    0    0.5   0.4   0.3  0.1     0   0.1   \n",
      "3     170   39  ...    0.4   0.1  0.1    0.4   0.4   0.4    -   0.1   0.1   \n",
      "4     230  102  ...    0.8     0  0.1    0.3   0.4   0.1  0.3   0.1     -   \n",
      "..    ...  ...  ...    ...   ...  ...    ...   ...   ...  ...   ...   ...   \n",
      "299   174   54  ...    0.5     -  0.2    0.3   0.3   0.1  0.1   0.1     0   \n",
      "300    65   37  ...    0.6     -  0.3    0.1   0.2   0.6    -   0.2   0.1   \n",
      "301   177   33  ...    0.3     -  0.1    0.2   0.2   0.3    -   0.1     -   \n",
      "302   136   62  ...    1.4     0  1.1    0.4   0.3   0.6  0.2   0.2   0.1   \n",
      "303  1207  190  ...    0.3     -  1.6    0.6   0.2   0.3  0.1   0.1   0.1   \n",
      "\n",
      "    Muut_p  \n",
      "0      4.4  \n",
      "1      3.9  \n",
      "2      4.2  \n",
      "3      4.6  \n",
      "4      5.6  \n",
      "..     ...  \n",
      "299    4.5  \n",
      "300    4.9  \n",
      "301    7.3  \n",
      "302    2.6  \n",
      "303    2.5  \n",
      "\n",
      "[304 rows x 42 columns]\n"
     ]
    }
   ],
   "source": [
    "print(election)"
   ]
  },
  {
   "cell_type": "code",
   "execution_count": 16,
   "metadata": {},
   "outputs": [],
   "source": [
    "#Replace the '-' -values representing no candidate for the area with 0 value for easier handling of the data.\n",
    "election.replace(\"-\", value=0, inplace=True)"
   ]
  },
  {
   "cell_type": "code",
   "execution_count": 17,
   "metadata": {},
   "outputs": [],
   "source": [
    "#Some results were returned as object types. Here they are converted to int64 for absolute values and float64\n",
    "#for percentages.\n",
    "election.iloc[:,12:21]=election.iloc[:,12:21].astype(\"int64\")\n",
    "election.iloc[:,32:]=election.iloc[:,32:].astype(\"float64\")"
   ]
  },
  {
   "cell_type": "code",
   "execution_count": 18,
   "metadata": {},
   "outputs": [],
   "source": [
    "election[\"winner\"]=None\n",
    "for i, row in election.iterrows():\n",
    "    election.loc[i,\"winner\"]=row[2:22].astype(\"int64\").idxmax()"
   ]
  },
  {
   "cell_type": "code",
   "execution_count": 19,
   "metadata": {},
   "outputs": [],
   "source": [
    "#Create new columns to the vote results -dataframe containing only the district and city codes\n",
    "election[\"tunnus\"]=None\n",
    "election[\"kuntanro\"]=None\n",
    "\n",
    "election=election.apply(funcs.code_extract, code=\"tunnus\", city_code=\"kuntanro\", area=\"alue\", axis=1)"
   ]
  },
  {
   "cell_type": "code",
   "execution_count": 20,
   "metadata": {},
   "outputs": [
    {
     "name": "stdout",
     "output_type": "stream",
     "text": [
      "                             alue  Yhteensä  SDP   PS   KOK  KESK  VIHR  VAS  \\\n",
      "0                049 001  Muurala      2036  360  349   386   106   276   75   \n",
      "1    049 002  Jouppi-Kirstinsyrjä      1284  314  254   130    38   198  104   \n",
      "2              049 003  Tuomarila      2002  310  229   517   100   393   89   \n",
      "3         049 004  Nuuksio-Nupuri      1850  290  321   433    98   245   95   \n",
      "4       049 005  Bemböle-Kunnarla      2782  349  441   683   160   429   85   \n",
      "..                            ...       ...  ...  ...   ...   ...   ...  ...   \n",
      "299           091 054G Vuosaari G      2357  456  463   337    74   381  231   \n",
      "300           091 054H Vuosaari H      1885  394  386   281    64   297  189   \n",
      "301          091 055A Östersundom      1130   67  175   370    35   130   37   \n",
      "302          091 090A Ä-alue 090A      3445  402  507   520    73   793  595   \n",
      "303          091 090B Ä-alue 090B      9145  661  543  2055   215  2731  841   \n",
      "\n",
      "      RKP   KD  ...  LIBE_p  SKP_p  EOP_p  IP_p  SKE_p  KTP_p  Muut_p  winner  \\\n",
      "0     207   96  ...     0.3    0.1    0.2   0.2    0.0    0.0     4.4     KOK   \n",
      "1      60   45  ...     0.5    0.5    0.4   0.0    0.2    0.2     3.9     SDP   \n",
      "2     127   61  ...     0.5    0.4    0.3   0.1    0.0    0.1     4.2     KOK   \n",
      "3     170   39  ...     0.4    0.4    0.4   0.0    0.1    0.1     4.6     KOK   \n",
      "4     230  102  ...     0.3    0.4    0.1   0.3    0.1    0.0     5.6     KOK   \n",
      "..    ...  ...  ...     ...    ...    ...   ...    ...    ...     ...     ...   \n",
      "299   174   54  ...     0.3    0.3    0.1   0.1    0.1    0.0     4.5      PS   \n",
      "300    65   37  ...     0.1    0.2    0.6   0.0    0.2    0.1     4.9     SDP   \n",
      "301   177   33  ...     0.2    0.2    0.3   0.0    0.1    0.0     7.3     KOK   \n",
      "302   136   62  ...     0.4    0.3    0.6   0.2    0.2    0.1     2.6    VIHR   \n",
      "303  1207  190  ...     0.6    0.2    0.3   0.1    0.1    0.1     2.5    VIHR   \n",
      "\n",
      "     tunnus  kuntanro  \n",
      "0         1       049  \n",
      "1         2       049  \n",
      "2         3       049  \n",
      "3         4       049  \n",
      "4         5       049  \n",
      "..      ...       ...  \n",
      "299     54G       091  \n",
      "300     54H       091  \n",
      "301     55A       091  \n",
      "302     90A       091  \n",
      "303     90B       091  \n",
      "\n",
      "[304 rows x 45 columns]\n"
     ]
    }
   ],
   "source": [
    "print(election)"
   ]
  },
  {
   "cell_type": "code",
   "execution_count": 21,
   "metadata": {},
   "outputs": [],
   "source": [
    "#There are a lot of unnecessary columns in the voting area and district -shapefiles. We filter them\n",
    "#out and leave only the necessary columns which we will use later on when we need to combine the statistics\n",
    "#of different voting areas to one district area.\n",
    "\n",
    "districts=districts[[\"geometry\",\"Nimi\", \"KUNTA\", \"PIEN\", \"TILA\", \"SUUR\"]]\n",
    "voting_areas=voting_areas[[\"geometry\", \"kuntanro\", \"tunnus\", \"nimi\"]]"
   ]
  },
  {
   "cell_type": "code",
   "execution_count": 22,
   "metadata": {},
   "outputs": [],
   "source": [
    "#Merge the vote-results to the correct voting areas by the columns \"tunnus\" and \"kuntanro\".\n",
    "vote_results=voting_areas.merge(election, on=[\"tunnus\", \"kuntanro\"])"
   ]
  },
  {
   "cell_type": "code",
   "execution_count": 23,
   "metadata": {},
   "outputs": [],
   "source": [
    "#Extract the centroid of a voting area for map representation later on.\n",
    "vote_results_centroid=vote_results\n",
    "vote_results_centroid[\"geometry\"]=vote_results[\"geometry\"].centroid\n",
    "vote_results_centroid=vote_results_centroid.to_crs(epsg=4326)"
   ]
  },
  {
   "cell_type": "code",
   "execution_count": 24,
   "metadata": {},
   "outputs": [
    {
     "name": "stdout",
     "output_type": "stream",
     "text": [
      "                             alue  Yhteensä  SDP   PS   KOK  KESK  VIHR  VAS  \\\n",
      "0                049 001  Muurala      2036  360  349   386   106   276   75   \n",
      "1    049 002  Jouppi-Kirstinsyrjä      1284  314  254   130    38   198  104   \n",
      "2              049 003  Tuomarila      2002  310  229   517   100   393   89   \n",
      "3         049 004  Nuuksio-Nupuri      1850  290  321   433    98   245   95   \n",
      "4       049 005  Bemböle-Kunnarla      2782  349  441   683   160   429   85   \n",
      "..                            ...       ...  ...  ...   ...   ...   ...  ...   \n",
      "299           091 054G Vuosaari G      2357  456  463   337    74   381  231   \n",
      "300           091 054H Vuosaari H      1885  394  386   281    64   297  189   \n",
      "301          091 055A Östersundom      1130   67  175   370    35   130   37   \n",
      "302          091 090A Ä-alue 090A      3445  402  507   520    73   793  595   \n",
      "303          091 090B Ä-alue 090B      9145  661  543  2055   215  2731  841   \n",
      "\n",
      "      RKP   KD  ...  LIBE_p  SKP_p  EOP_p  IP_p  SKE_p  KTP_p  Muut_p  winner  \\\n",
      "0     207   96  ...     0.3    0.1    0.2   0.2    0.0    0.0     4.4     KOK   \n",
      "1      60   45  ...     0.5    0.5    0.4   0.0    0.2    0.2     3.9     SDP   \n",
      "2     127   61  ...     0.5    0.4    0.3   0.1    0.0    0.1     4.2     KOK   \n",
      "3     170   39  ...     0.4    0.4    0.4   0.0    0.1    0.1     4.6     KOK   \n",
      "4     230  102  ...     0.3    0.4    0.1   0.3    0.1    0.0     5.6     KOK   \n",
      "..    ...  ...  ...     ...    ...    ...   ...    ...    ...     ...     ...   \n",
      "299   174   54  ...     0.3    0.3    0.1   0.1    0.1    0.0     4.5      PS   \n",
      "300    65   37  ...     0.1    0.2    0.6   0.0    0.2    0.1     4.9     SDP   \n",
      "301   177   33  ...     0.2    0.2    0.3   0.0    0.1    0.0     7.3     KOK   \n",
      "302   136   62  ...     0.4    0.3    0.6   0.2    0.2    0.1     2.6    VIHR   \n",
      "303  1207  190  ...     0.6    0.2    0.3   0.1    0.1    0.1     2.5    VIHR   \n",
      "\n",
      "     tunnus  kuntanro  \n",
      "0         1       049  \n",
      "1         2       049  \n",
      "2         3       049  \n",
      "3         4       049  \n",
      "4         5       049  \n",
      "..      ...       ...  \n",
      "299     54G       091  \n",
      "300     54H       091  \n",
      "301     55A       091  \n",
      "302     90A       091  \n",
      "303     90B       091  \n",
      "\n",
      "[304 rows x 45 columns]\n"
     ]
    }
   ],
   "source": [
    "print(election)"
   ]
  },
  {
   "cell_type": "code",
   "execution_count": 25,
   "metadata": {},
   "outputs": [],
   "source": [
    "#Merge unemployment and education datasets for different cities together for easier use.\n",
    "unemployment=pd.concat([unemployment_Espoo, unemployment_Helsinki, unemployment_Vantaa], ignore_index=True)\n",
    "education=pd.concat([education_Espoo, education_Helsinki, education_Vantaa], ignore_index=True)"
   ]
  },
  {
   "cell_type": "code",
   "execution_count": 26,
   "metadata": {},
   "outputs": [],
   "source": [
    "#Delete the no-data values marked with '.' and '..', and empty rows.\n",
    "education.replace([\".\", \"..\"], value=np.NaN, inplace=True)\n",
    "education.dropna(axis=0, inplace=True)\n",
    "\n",
    "unemployment.replace([\".\", \"..\"], value=np.NaN, inplace=True)\n",
    "unemployment.dropna(axis=0, inplace=True)"
   ]
  },
  {
   "cell_type": "code",
   "execution_count": 27,
   "metadata": {},
   "outputs": [
    {
     "name": "stderr",
     "output_type": "stream",
     "text": [
      "C:\\Users\\Poso\\Anaconda3\\envs\\Mapping\\lib\\site-packages\\pyproj\\crs\\crs.py:53: FutureWarning: '+init=<authority>:<code>' syntax is deprecated. '<authority>:<code>' is the preferred initialization method. When making the change, be mindful of axis order changes: https://pyproj4.github.io/pyproj/stable/gotchas.html#axis-order-changes-in-proj-6\n",
      "  return _prepare_from_string(\" \".join(pjargs))\n"
     ]
    }
   ],
   "source": [
    "#Change the CRS of the districts to TM35Fin which is also used in the voting area map\n",
    "districts=districts.to_crs({'init': 'epsg:3879'})"
   ]
  },
  {
   "cell_type": "code",
   "execution_count": 28,
   "metadata": {},
   "outputs": [],
   "source": [
    "#Extract the district and city codes to separate columns from\n",
    "#the full names of districts in education and unemployment datasets.\n",
    "education[\"code\"]=None\n",
    "education[\"KUNTA\"]=None\n",
    "education=education.apply(funcs.code_extract, code=\"code\",city_code=\"KUNTA\", area=\"Alue\", axis=1)\n",
    "\n",
    "unemployment[\"code\"]=None\n",
    "unemployment[\"KUNTA\"]=None\n",
    "unemployment=unemployment.apply(funcs.code_extract, code=\"code\",city_code=\"KUNTA\", area=\"Alue\", axis=1)\n",
    "\n",
    "#Extract the district and city codes to separate columns from\n",
    "#the full names of districts in district data.\n",
    "districts[\"code\"]=None\n",
    "districts=districts.apply(funcs.sep_code, axis=1)"
   ]
  },
  {
   "cell_type": "code",
   "execution_count": 29,
   "metadata": {},
   "outputs": [],
   "source": [
    "#Merge the education and unemployment data to district geometry\n",
    "district_ed=districts.merge(education, on=[\"KUNTA\",\"code\"])\n",
    "district_unemp=districts.merge(unemployment, on=[\"KUNTA\",\"code\"])"
   ]
  },
  {
   "cell_type": "code",
   "execution_count": 30,
   "metadata": {},
   "outputs": [],
   "source": [
    "#Change the CRS of districts, education and unemployment dataframes to TM35Fin for easier mapping in Folium\n",
    "districts.crs={'init': 'epsg:3879'}\n",
    "district_unemp.crs={'init': 'epsg:3879'}\n",
    "district_ed.crs={'init': 'epsg:3879'}"
   ]
  },
  {
   "cell_type": "code",
   "execution_count": 31,
   "metadata": {},
   "outputs": [],
   "source": [
    "#Convert the education and unemployment dataframes' population values from object to float so they can be used\n",
    "#for calculations.\n",
    "\n",
    "for pop in district_ed.columns[8:]:\n",
    "    district_ed[pop]=district_ed[pop].astype(\"float64\")\n",
    "    \n",
    "district_unemp[\"Tyottomyysaste\"]=district_unemp[\"Tyottomyysaste\"].astype(\"float64\")\n",
    "district_unemp=district_unemp.rename(columns={\"Tyottomyysaste\": \"Unemployment rate\"})"
   ]
  },
  {
   "cell_type": "code",
   "execution_count": 32,
   "metadata": {},
   "outputs": [],
   "source": [
    "#Rename the education dataframe columns to shorter ones.\n",
    "district_ed.rename(columns={'Kaikki koulutusasteet': 'all', 'Tutkinnon suorittaneita yhteensä': 'ed_sum',\n",
    "                  'Keskiaste':'mid_ed', 'Alin korkea- ja alempi korkeakouluaste': 'low_uni',\n",
    "                  'Ylempi korkeakouluaste ja tutkijakoulutus': 'high_uni',\n",
    "                  'Perusaste tai tuntematon': 'basic_edu'}, inplace=True)"
   ]
  },
  {
   "cell_type": "code",
   "execution_count": 33,
   "metadata": {},
   "outputs": [],
   "source": [
    "#Calculate the proportions of education levels to separate columns of the education dataframe.\n",
    "district_ed[\"Middle level education\"]=round(district_ed[\"mid_ed\"]/district_ed[\"all\"]*100,2)\n",
    "district_ed[\"Lower university education\"]=round(district_ed[\"low_uni\"]/district_ed[\"all\"]*100,2)\n",
    "district_ed[\"Higher university education\"]=round(district_ed[\"high_uni\"]/district_ed[\"all\"]*100,2)\n",
    "district_ed[\"Basic education\"]=round(district_ed[\"basic_edu\"]/district_ed[\"all\"]*100,2)"
   ]
  },
  {
   "cell_type": "code",
   "execution_count": 34,
   "metadata": {},
   "outputs": [],
   "source": [
    "#Classify the amount of votes with Natural Breaks and create a new column for the values.\n",
    "#To be used for creating different sized markers for the map indicating the amount of votes from each area.\n",
    "\n",
    "cl_votes=mapc.NaturalBreaks(y=vote_results_centroid[\"Yhteensä\"], k=4)\n",
    "vote_results_centroid[\"vote_cl\"]=vote_results_centroid[\"Yhteensä\"].apply(cl_votes).astype(int)"
   ]
  },
  {
   "cell_type": "code",
   "execution_count": 35,
   "metadata": {},
   "outputs": [],
   "source": [
    "#Create a new index column called 'geoid' for unemployment and district dataframes.\n",
    "#Folium requires an index column named 'geoid' to read the data from the rows correctly.\n",
    "\n",
    "district_unemp['geoid'] = list(range(len(district_unemp)))\n",
    "district_unemp.index=district_unemp[\"geoid\"].astype(str)\n",
    "\n",
    "district_ed['geoid'] = list(range(len(district_ed)))\n",
    "district_ed.index=district_ed[\"geoid\"].astype(str)"
   ]
  },
  {
   "cell_type": "code",
   "execution_count": 36,
   "metadata": {},
   "outputs": [
    {
     "name": "stdout",
     "output_type": "stream",
     "text": [
      "SDP     394\n",
      "PS      339\n",
      "KOK     591\n",
      "KESK    103\n",
      "VIHR    352\n",
      "VAS      96\n",
      "RKP      83\n",
      "Name: 1, dtype: object\n"
     ]
    }
   ],
   "source": [
    "print(vote_results_centroid.iloc[1,6:13])"
   ]
  },
  {
   "cell_type": "code",
   "execution_count": 46,
   "metadata": {},
   "outputs": [],
   "source": [
    "from pygal.style import Style\n",
    "custom_style = Style(\n",
    "  background='transparent',\n",
    "  plot_background='transparent',\n",
    "  foreground='#53E89B',\n",
    "  foreground_strong='#53A0E8',\n",
    "  foreground_subtle='#630C0D',\n",
    "  opacity='.6',\n",
    "  opacity_hover='.7',\n",
    "  transition='300ms ease-in',\n",
    "  colors=('#ff0000', '#42f0d6', '#004bd6', '#30af1d', '#58fd3f', '#b60205', '#fdf926', '#a1a1a1'))\n",
    "\n",
    "for i, row in vote_results_centroid.iterrows():\n",
    "    pie_chart = pygal.Pie(style=custom_style)\n",
    "    pie_chart.title = row[\"nimi\"]\n",
    "    for j in range (6,13):\n",
    "        partycolor=funcs.party_cmap(row.index[j])\n",
    "        pie_chart.add(row.index[j], row[j], color=partycolor)\n",
    "    pie_chart.render_to_file('data/charts/'+row[\"nimi\"]+'.svg')"
   ]
  },
  {
   "cell_type": "code",
   "execution_count": 38,
   "metadata": {},
   "outputs": [],
   "source": [
    "#Create a new folium map instance for the different layers.\n",
    "m = folium.Map(location=[60.25, 24.8], zoom_start=9, control_scale=True, tiles=\"CartoDB positron\", control=False)\n",
    "m.name=\"Cardodb layer\""
   ]
  },
  {
   "cell_type": "code",
   "execution_count": 39,
   "metadata": {},
   "outputs": [
    {
     "data": {
      "text/plain": [
       "<folium.features.GeoJson at 0x121ff17f588>"
      ]
     },
     "execution_count": 39,
     "metadata": {},
     "output_type": "execute_result"
    }
   ],
   "source": [
    "#Add the districts as a GeoJson map layout\n",
    "style={'fillColor': 'Black', 'fillOpacity' : '0.05', 'color': 'Black', 'weight' : '0.5'}\n",
    "folium.GeoJson(\n",
    "    districts,\n",
    "    name='Districts',\n",
    "    control=True,\n",
    "    style_function=lambda x: style\n",
    ").add_to(m)"
   ]
  },
  {
   "cell_type": "code",
   "execution_count": 40,
   "metadata": {},
   "outputs": [
    {
     "data": {
      "text/plain": [
       "<folium.features.GeoJson at 0x121ff541908>"
      ]
     },
     "execution_count": 40,
     "metadata": {},
     "output_type": "execute_result"
    }
   ],
   "source": [
    "#Add the voting areas as a GeoJson map layout\n",
    "style_vote={'fillColor': 'Black', 'fillOpacity' : '0.05', 'color': 'Purple', 'weight' : '0.5'}\n",
    "folium.GeoJson(\n",
    "    voting_areas,\n",
    "    name='Voting areas',\n",
    "    overlay=True,\n",
    "    show=False,\n",
    "    style_function=lambda x: style_vote\n",
    ").add_to(m)"
   ]
  },
  {
   "cell_type": "code",
   "execution_count": 41,
   "metadata": {},
   "outputs": [
    {
     "data": {
      "text/plain": [
       "<folium.features.GeoJson at 0x121833e8198>"
      ]
     },
     "execution_count": 41,
     "metadata": {},
     "output_type": "execute_result"
    }
   ],
   "source": [
    "#Create a choropleth map on the distribution of unemployed people in each district.\n",
    "district_unemp\n",
    "unemp_map=folium.Choropleth(\n",
    "    geo_data=district_unemp,\n",
    "    name='Unemployment rate',\n",
    "    legend_name='Unemployment rate (%)',\n",
    "    data=district_unemp,\n",
    "    columns=[\"geoid\",\"Unemployment rate\"],\n",
    "    key_on='feature.properties.geoid',\n",
    "    fill_color='YlOrRd',\n",
    "    nan_fill_color=\"Grey\",\n",
    "    fill_opacity=0.5,\n",
    "    line_opacity=0.2,\n",
    "    line_color='black',\n",
    "    line_weight=1,\n",
    "    highlight=True,\n",
    "    smooth_factor=1,\n",
    "    show=False\n",
    ").add_to(m)\n",
    "\n",
    "#Add a GeoJson tooltip to the map element which shows the name and unemplyment statistics of the district\n",
    "#when hovering over the map object\n",
    "unemp_map.geojson.add_child(\n",
    "folium.features.GeoJsonTooltip(fields=['Nimi', \"Unemployment rate\"])\n",
    ")"
   ]
  },
  {
   "cell_type": "code",
   "execution_count": 42,
   "metadata": {},
   "outputs": [
    {
     "data": {
      "text/plain": [
       "<folium.features.GeoJson at 0x12183907390>"
      ]
     },
     "execution_count": 42,
     "metadata": {},
     "output_type": "execute_result"
    }
   ],
   "source": [
    "#Create a choropleth map on the distribution of people with only basic education in each district.\n",
    "edu_map=folium.Choropleth(\n",
    "    geo_data=district_ed,\n",
    "    name='People with basic education',\n",
    "    legend_name='People with basic education (%)',\n",
    "    data=district_ed,\n",
    "    columns=[\"geoid\",\"Basic education\"],\n",
    "    key_on='feature.properties.geoid',\n",
    "    fill_color='YlOrRd',\n",
    "    nan_fill_color=\"Grey\",\n",
    "    fill_opacity=0.5,\n",
    "    line_opacity=0.2,\n",
    "    line_color='black',\n",
    "    line_weight=1,\n",
    "    highlight=True,\n",
    "    smooth_factor=1,\n",
    "    show=False,\n",
    ").add_to(m)\n",
    "\n",
    "#Add a GeoJson tooltip to the map element which shows the name and education statistics of the district\n",
    "#when hovering over the map object.\n",
    "edu_map.geojson.add_child(\n",
    "folium.features.GeoJsonTooltip(fields=['Nimi', \"Basic education\",\"Middle level education\", \"Lower university education\", \"Higher university education\"])\n",
    ")"
   ]
  },
  {
   "cell_type": "code",
   "execution_count": 43,
   "metadata": {},
   "outputs": [],
   "source": [
    "'''Iterate over the rows in the vote_results_centroid dataframe and create a folium Circle-element to each\n",
    "location with color according to the winning party and size scaled to the amount of voters in the voting area.\n",
    "Categorise these elements by the winning party and add them to separate FeatureGroups.\n",
    "Also add a popup to each circle-element containing a Vincent-piechart on the distribution of votes in the area.\n",
    "'''\n",
    "\n",
    "\n",
    "#Create lists for the winning parties and their colors.\n",
    "partycmap=[\"red\", \"turquoise\", \"blue\", \"lime\"]\n",
    "parties=[\"SDP\", \"PS\", \"KOK\",\"VIHR\"]\n",
    "\n",
    "#Create an empty dictionary and add winning parties to it as Folium Feature groups with name and text color by\n",
    "#party.\n",
    "partyfglist={}\n",
    "text_style='<span style=\"color: {col};\">{txt}</span>'\n",
    "for idx, color in enumerate(partycmap):\n",
    "    partyfglist[\"{0}\".format(parties[idx])]=folium.FeatureGroup(name= text_style.format(txt= parties[idx], col= color), overlay=True)\n",
    "\n",
    "#Iterate over the vote_results_centoid dataframe\n",
    "for i, row in vote_results_centroid.iterrows():\n",
    "    '''    #Create a Vincent pie chart for each row from the voting data \n",
    "    vinchart=vincent.Pie(row[6:13], width=200, height=200)\n",
    "    vinchart.legend(row[\"nimi\"]+\"\\n Biggest party: \"+row[\"winner\"])\n",
    "    vinchart.colors(brew=\"Set1\")\n",
    "    votechart=folium.Vega(vinchart.to_json(), width=450, height=200)'''\n",
    "    \n",
    "    #HTML-formating for the pop-up chart\n",
    "    chartsrc= '<embed type=\"image/svg+xml\" src=\"https://Posanderi.github.io/data/charts/'+row[\"nimi\"]+'.svg\" alt=\"Cannot find the chart\" width=\"500\" height=\"500\">'\n",
    "    \n",
    "    #Add a circle element to the map with color according to the winning party and size scaled according to the\n",
    "    #amount of voters and add the formerly created Vincent chart to it as a popup.\n",
    "    vote_circle=folium.Circle([row.geometry.y, row.geometry.x], radius=((row[\"vote_cl\"]+5)*50),\n",
    "                  stroke=False, fill=True, fill_opacity=0.9, color=funcs.party_cmap(party=row[\"winner\"]),\n",
    "                  popup=folium.Popup(html=chartsrc))\n",
    "    '''popup=folium.Popup(row[46]).add_child(votechart))'''\n",
    "    \n",
    "    #Keep the circle in front of other map layers.\n",
    "    m.keep_in_front(vote_circle)\n",
    "\n",
    "    #Add the circle element to a feature group according to the winning party.\n",
    "    for party in partyfglist:\n",
    "        if row[\"winner\"]==party:\n",
    "            vote_circle.add_to(partyfglist[party])\n",
    "            \n",
    "#Add the party feature groups to the map.    \n",
    "for party in partyfglist:\n",
    "    partyfglist[party].add_to(m)"
   ]
  },
  {
   "cell_type": "code",
   "execution_count": 44,
   "metadata": {},
   "outputs": [
    {
     "data": {
      "text/plain": [
       "<folium.map.LayerControl at 0x121ff527dd8>"
      ]
     },
     "execution_count": 44,
     "metadata": {},
     "output_type": "execute_result"
    }
   ],
   "source": [
    "#Add a maplayer control tool to show/hide the different map elements\n",
    "folium.map.LayerControl(collapsed=False).add_to(m)"
   ]
  },
  {
   "cell_type": "code",
   "execution_count": 45,
   "metadata": {},
   "outputs": [],
   "source": [
    "#Save the map to the root folder\n",
    "m.save(\"index.html\")"
   ]
  },
  {
   "cell_type": "code",
   "execution_count": null,
   "metadata": {},
   "outputs": [],
   "source": []
  }
 ],
 "metadata": {
  "kernelspec": {
   "display_name": "Python 3",
   "language": "python",
   "name": "python3"
  },
  "language_info": {
   "codemirror_mode": {
    "name": "ipython",
    "version": 3
   },
   "file_extension": ".py",
   "mimetype": "text/x-python",
   "name": "python",
   "nbconvert_exporter": "python",
   "pygments_lexer": "ipython3",
   "version": "3.6.10"
  }
 },
 "nbformat": 4,
 "nbformat_minor": 4
}
